{
 "cells": [
  {
   "cell_type": "markdown",
   "metadata": {},
   "source": [
    "# Regular Expressions"
   ]
  },
  {
   "cell_type": "markdown",
   "metadata": {},
   "source": [
    "## Outline\n",
    "- [Overview](#overview)\n",
    "- [Regular Expression Matching](#regular-expression-matching)\n",
    "- [Modifying Strings](#modifying-strings)"
   ]
  },
  {
   "cell_type": "markdown",
   "metadata": {},
   "source": [
    "<a id=\"overview\"></a>\n",
    "## Overview\n",
    "\n",
    "*Regular expressions* (called REs, or regexes, or regex patterns) are essentially a tiny, highly specialized programming language embedded inside Python and made available through the [re](https://docs.python.org/3/library/re.html) module. \n",
    "\n",
    "The Python `re` module provides full support for [Perl](https://www.perl.org/)-like regular expression on Python. \n",
    "Through the functions in the `re` module, you specify the rules of the set of possible strings that you want to match or find other strings or sets of strings, using a specialized syntax held in a pattern. \n",
    "You can also modify a string or split it apart in various ways. \n",
    "\n",
    "The page [Regular Expression HOWTO](https://docs.python.org/3/howto/regex.html#regex-howto) provides an introductory tutorial to using regular expressions in Python with the `re` module. \n",
    "\n",
    "From here on, we will assume that the following import has taken place:"
   ]
  },
  {
   "cell_type": "code",
   "execution_count": null,
   "metadata": {},
   "outputs": [],
   "source": [
    "import re"
   ]
  },
  {
   "cell_type": "markdown",
   "metadata": {},
   "source": [
    "<a id=\"regular-expression-matching\"></a>\n",
    "## Regular Expression Matching\n",
    "\n",
    "The first thing to recognize when using regular expressions is that everything is essentially a character, and we are writing patterns to match a specific sequence of characters (also known as a string). Most patterns use normal ASCII, which includes letters, digits, punctuation and other symbols on your keyboard like %#$@!, but unicode characters can also be used to match any type of international text.\n",
    "\n",
    "The general steps in using reguar expression to search for a pattern match are:\n",
    "\n",
    "1. Create a `Regex` object with the `re.compile()` function\n",
    "1. Pass the string you want to search into the `Regex` object's `search()` method - Remember to use a raw string\n",
    "1. Call the `match` object's `group` method to return a string of the actual matched text\n",
    "\n",
    "For example, "
   ]
  },
  {
   "cell_type": "code",
   "execution_count": null,
   "metadata": {},
   "outputs": [],
   "source": [
    "line = 'Cats are smarter than dogs'\n",
    "\n",
    "dogRegex = re.compile('dog')\n",
    "searchObj = dogRegex.search(line)\n",
    "searchObj.group()"
   ]
  },
  {
   "cell_type": "markdown",
   "metadata": {},
   "source": [
    "`re.compile()` also accepts an optional `flags` argument to enable various special features and syntax variations.\n",
    "For example,"
   ]
  },
  {
   "cell_type": "code",
   "execution_count": null,
   "metadata": {},
   "outputs": [],
   "source": [
    "line = 'Dogs are smarter than cats'\n",
    "\n",
    "dogRegex = re.compile('dog', re.IGNORECASE)\n",
    "searchObj = dogRegex.search(line)\n",
    "searchObj.group()"
   ]
  },
  {
   "cell_type": "markdown",
   "metadata": {},
   "source": [
    "You can also call the `re.search()` method directly. \n",
    "\n",
    "The `re.search()` method returns `None` if no match can be found. \n",
    "If successful, a `re.Match` object is returned, containing information about the match: where it starts and ends, the substring it matched, and more.\n",
    "\n",
    "Try the following:"
   ]
  },
  {
   "cell_type": "code",
   "execution_count": null,
   "metadata": {},
   "outputs": [],
   "source": [
    "print(re.search('dog', 'Dogs are smarter than cats'))"
   ]
  },
  {
   "cell_type": "code",
   "execution_count": null,
   "metadata": {},
   "outputs": [],
   "source": [
    "m = re.search('dog', 'Cats are smarter than dogs')\n",
    "m"
   ]
  },
  {
   "cell_type": "code",
   "execution_count": null,
   "metadata": {},
   "outputs": [],
   "source": [
    "m.group()"
   ]
  },
  {
   "cell_type": "code",
   "execution_count": null,
   "metadata": {},
   "outputs": [],
   "source": [
    "m.start(), m.end()"
   ]
  },
  {
   "cell_type": "code",
   "execution_count": null,
   "metadata": {},
   "outputs": [],
   "source": [
    "m.span()"
   ]
  },
  {
   "cell_type": "markdown",
   "metadata": {},
   "source": [
    "### Metacharacters\n",
    "In the above example, the regular expression 'dog' (with literal character) will match the string 'dog' exactly. \n",
    "There are exceptions to this rule: some characters are special **metacharacters**, and don't match themselves. \n",
    "\n",
    "Here is a complete list of the metacharacters: . ^ $ * + ? { } [ ] \\ | ( )\n",
    "\n",
    "- `.` matches any single character except newline\n",
    "- `^` matches beginning of line\n",
    "- `$` matches end of line\n",
    "- `*` matches 0 or more occurrences of preceding expression\n",
    "- `+` matches 1 or more occurrences of preceding expression\n",
    "- `?` matches 0 or 1 occurrence of preceding expression\n",
    "- `{ }` matches specified number of occurrences of preceding expression: `{n}` matches exactly n; `{n,}` matches n or more; `{n,m}` matches at least n and at most m \n",
    "- `[...]` matches any single character in brackets; `[^...]` matches any single character not in brackets\n",
    "- `\\` matches special cases as specified in the character that's followed\n",
    "- `a|b` matches either a or b\n",
    "- `( )` groups regular expressions and remembers matched text\n",
    "\n",
    "Among them the backslash `\\` is very useful, for example\n",
    "- `\\d`, `\\s`, `\\w` match any decimal digit, a whitespace, any word character, respectively\n",
    "- `\\D`, `\\S`,  `\\W` match any character *except* a decimal digit, a whitespace, a word character, respectively\n",
    "- `\\n`, `\\t`, etc. matches newlines, tabs, etc.\n",
    "- `\\b...\\b` word boundary\n",
    "- `\\1...\\9` matches nth grouped subexpression\n",
    "\n",
    "The above list of special sequences is not complete. \n",
    "For a complete list of sequences and expanded class definitions for Unicode string patterns, see [Regular Expression Syntax](https://docs.python.org/3/library/re.html#re-syntax) in the Standard Library reference.\n",
    "\n",
    "Let's work through some examples: "
   ]
  },
  {
   "cell_type": "code",
   "execution_count": null,
   "metadata": {},
   "outputs": [],
   "source": [
    "p = re.compile('Batman|Joker') # matches 'Batman' or 'Joker'\n",
    "m = p.search('Batman and Joker'); print(m)\n",
    "m = p.search('Joker and Batman'); print(m)"
   ]
  },
  {
   "cell_type": "code",
   "execution_count": null,
   "metadata": {},
   "outputs": [],
   "source": [
    "p = re.compile('^From') # matches 'From' only at the beginning\n",
    "print(p.search('From Here to Eternity'))\n",
    "print(p.search('Reciting From Memory'))"
   ]
  },
  {
   "cell_type": "code",
   "execution_count": null,
   "metadata": {},
   "outputs": [],
   "source": [
    "p = re.compile('}$') # matches '}' only at the end\n",
    "print(p.search('{block}'))\n",
    "print(p.search('{block} '))"
   ]
  },
  {
   "cell_type": "code",
   "execution_count": null,
   "metadata": {},
   "outputs": [],
   "source": [
    "p = re.compile('[a-z]+') # matches one or more lower-case alphabets\n",
    "print(p.search(''))\n",
    "print(p.search('::: message'))"
   ]
  },
  {
   "cell_type": "code",
   "execution_count": null,
   "metadata": {},
   "outputs": [],
   "source": [
    "p = re.compile('(Ha){2,3}') # matches 2 to 3 consecutive 'Ha's\n",
    "print(p.search('Ha'))\n",
    "print(p.search('HaHa'))\n",
    "print(p.search('HaHaHa'))"
   ]
  },
  {
   "cell_type": "code",
   "execution_count": null,
   "metadata": {},
   "outputs": [],
   "source": [
    "p = re.compile('Bat(wo)?man') # matches 'Batman' or 'Batwoman'\n",
    "print(p.search('The adventures of Batman'))\n",
    "print(p.search('The adventures of Batwoman'))"
   ]
  },
  {
   "cell_type": "code",
   "execution_count": null,
   "metadata": {},
   "outputs": [],
   "source": [
    "p = re.compile('\\d\\d\\d-\\d\\d\\d-\\d\\d\\d\\d') # matches phone number in xxx-xxx-xxxx format\n",
    "print(p.search('My number is 260-481-0146.').group())"
   ]
  },
  {
   "cell_type": "markdown",
   "metadata": {},
   "source": [
    "In actual programs, the most common style is to store the `Match` object in a variable, and then check it was `None`."
   ]
  },
  {
   "cell_type": "code",
   "execution_count": null,
   "metadata": {},
   "outputs": [],
   "source": [
    "line = 'some string'\n",
    "p = re.compile('some')\n",
    "m = p.search(line)\n",
    "if m:\n",
    "    print('Match found: ', m.group())\n",
    "else:\n",
    "    print('No match')"
   ]
  },
  {
   "cell_type": "markdown",
   "metadata": {},
   "source": [
    "### Raw String\n",
    "\n",
    "As stated earlier, regular expressions use the backslash character `\\` to indicate special forms or to allow special characters to be used without invoking their special meaning. \n",
    "But this will make it difficult if we would like to match a literal backslash.\n",
    "\n",
    "The solution is to use Python's **raw string** notation for regular expressions; backslashes are not handled in any special way in a string literal prefixed with `r`.\n",
    "\n",
    "For example, `r'\\n'` is a two-character string containing `'\\'` and `'n'`, while `'\\n'` is a one-character string containing a newline. \n",
    "Regular expressions will often be written in Python code using this raw string notation.\n",
    "\n",
    "For example,"
   ]
  },
  {
   "cell_type": "code",
   "execution_count": null,
   "metadata": {},
   "outputs": [],
   "source": [
    "s = \"Hello\\tfrom ECE 303\\n Hi\" # normal string literal\n",
    "print(s)\n",
    "s = r\"Hello\\tfrom ECE 303\\n Hi\" # raw string\n",
    "print(s)"
   ]
  },
  {
   "cell_type": "markdown",
   "metadata": {},
   "source": [
    "In the following example, the string `'\\bclass\\b'` contains a special backspace character `'\\b'`. To allow `'\\b...\\b'` to be used as word boundary, raw string is needed here."
   ]
  },
  {
   "cell_type": "code",
   "execution_count": null,
   "metadata": {},
   "outputs": [],
   "source": [
    "p = re.compile(r'\\bclass\\b') # matches 'class' only when it is a complete word \n",
    "print(p.search('no class today'))\n",
    "print(p.search('the declassified algorithm'))"
   ]
  },
  {
   "cell_type": "markdown",
   "metadata": {},
   "source": [
    "### Grouping\n",
    "\n",
    "Frequently you need to obtain more information than just whether there is a match or not. \n",
    "Regular expressions are often used to dissect strings by creating groups using the `(` and `)` metacharacters. \n",
    "\n",
    "Suppose you want to separate the area code from the rest of the phone number:"
   ]
  },
  {
   "cell_type": "code",
   "execution_count": null,
   "metadata": {},
   "outputs": [],
   "source": [
    "p = re.compile('(\\d\\d\\d)-(\\d\\d\\d-\\d\\d\\d\\d)') # a regex with two groups \n",
    "m = p.search('My number is 260-481-0146.')\n",
    "print(m.group())\n",
    "print(m.group(0))\n",
    "print(m.group(1))\n",
    "print(m.group(2))"
   ]
  },
  {
   "cell_type": "markdown",
   "metadata": {},
   "source": [
    "Passing 0 or nothing to the `group()` method will return the entire matched text. \n",
    "\n",
    "Passing 1 or 2 to the `group()` method you can grab different parts of the matched text.\n",
    "\n",
    "Or if you would like to retrieve all the groups at once, use the `groups()` method."
   ]
  },
  {
   "cell_type": "code",
   "execution_count": null,
   "metadata": {},
   "outputs": [],
   "source": [
    "areaCode, mainNumber = m.groups() \n",
    "print(areaCode)\n",
    "print(mainNumber)"
   ]
  },
  {
   "cell_type": "markdown",
   "metadata": {},
   "source": [
    "Backreferences in a pattern allow you to specify that the contents of an earlier capturing group must also be found at the current location in the string.\n",
    "\n",
    "For example, `\\1` will succeed if the exact contents of group 1 can be found at the current position, and fails otherwise.\n",
    "\n",
    "The following RE detects doubled words in a string:"
   ]
  },
  {
   "cell_type": "code",
   "execution_count": null,
   "metadata": {},
   "outputs": [],
   "source": [
    "p = re.compile(r'\\b(\\w+)\\s+\\1\\b') # matches any two repeated characters (or words) separated by a whitespace\n",
    "print(p.search('Paris in the the spring').group())"
   ]
  },
  {
   "cell_type": "markdown",
   "metadata": {},
   "source": [
    "### Greedy versus Non-Greedy\n",
    "\n",
    "Python's regular expressions are *greedy* by default, which means that in ambiguous situations they will match the longest string possible. \n",
    "\n",
    "In the following example, although `'HaHa'`, `'HaHaHa'`, and `'HaHaHaHa'` are all valid matches of `'(Ha){2,4}'`, it returns `HaHaHaHa` instead of shorter possibilities."
   ]
  },
  {
   "cell_type": "code",
   "execution_count": null,
   "metadata": {},
   "outputs": [],
   "source": [
    "p = re.compile('(Ha){2,4}') # matches 2 to 4 consecutive 'Ha's - greedy version\n",
    "print(p.search('HaHaHaHa'))"
   ]
  },
  {
   "cell_type": "markdown",
   "metadata": {},
   "source": [
    "To match the shortest string possible, you can run the *non-greedy* version, with a `?` in the end. \n",
    "\n",
    "`?` also works with other metacharacters such as `*?`, `+?`, `??`, etc."
   ]
  },
  {
   "cell_type": "code",
   "execution_count": null,
   "metadata": {},
   "outputs": [],
   "source": [
    "p = re.compile('(Ha){2,4}?') # matches 2 to 4 consecutive 'Ha's - non-greedy version\n",
    "print(p.search('HaHaHaHa'))"
   ]
  },
  {
   "cell_type": "markdown",
   "metadata": {},
   "source": [
    "### The `findall()` Method\n",
    "\n",
    "RE objects also have a `findall()` method. \n",
    "While `search()` returns a `Match` object of the *first* matched text in the searched string, the `findall()` method returns the strings of *every* match in the searched string:\n",
    "\n",
    "- When called on a RE with no groups, the `findall()` method returns a list of string matches\n",
    "- When called on a RE with groups, the `findall()` method returns a list of tuples of strings"
   ]
  },
  {
   "cell_type": "code",
   "execution_count": null,
   "metadata": {},
   "outputs": [],
   "source": [
    "p = re.compile('\\d\\d\\d-\\d\\d\\d-\\d\\d\\d\\d') # matches phone number in xxx-xxx-xxxx format\n",
    "print(p.search('Cell: 260-123-456 Work: 260-481-0146').group())\n",
    "print(p.findall('Cell: 260-123-4567 Work: 260-481-0146'))\n",
    "p = re.compile('(\\d\\d\\d)-(\\d\\d\\d)-(\\d\\d\\d\\d)') # a regex with three groups\n",
    "print(p.findall('Cell: 260-123-4567 Work: 260-481-0146'))"
   ]
  },
  {
   "cell_type": "markdown",
   "metadata": {},
   "source": [
    "### Wildcard\n",
    "\n",
    "The `.` character in a regular expression is called a **wildcard** and will match any character except for a newline.\n",
    "\n",
    "For example, the following returns any three-character ends with `'at'`:"
   ]
  },
  {
   "cell_type": "code",
   "execution_count": null,
   "metadata": {},
   "outputs": [],
   "source": [
    "p = re.compile('.at')\n",
    "p.findall('The cat in the hat sat on the flat mat.')"
   ]
  },
  {
   "cell_type": "markdown",
   "metadata": {},
   "source": [
    "To match an actual dot, escapt the dot with a backslash `\\.`"
   ]
  },
  {
   "cell_type": "code",
   "execution_count": null,
   "metadata": {},
   "outputs": [],
   "source": [
    "p = re.compile('\\.com')\n",
    "print(p.search('google.com').group())"
   ]
  },
  {
   "cell_type": "markdown",
   "metadata": {},
   "source": [
    "The `.*` (dot-star) can be used in a regular expression to match *anything*.\n",
    "\n",
    "For example, if you want to match the string `'First Name:'` followed by any and all text, followed by `'Last Name:'`, and then followed by anything again,"
   ]
  },
  {
   "cell_type": "code",
   "execution_count": null,
   "metadata": {},
   "outputs": [],
   "source": [
    "p = re.compile('First Name: (.*) Last Name: (.*)')\n",
    "print(p.search('First Name: Tom Last Name: Grady').groups())"
   ]
  },
  {
   "cell_type": "markdown",
   "metadata": {},
   "source": [
    "The dot-star uses *greedy* mode: It tries to match as much text as possible. \n",
    "\n",
    "To match in a *non-greedy* mode, use the `.*?` together."
   ]
  },
  {
   "cell_type": "code",
   "execution_count": null,
   "metadata": {},
   "outputs": [],
   "source": [
    "p = re.compile('<.*>')\n",
    "print(p.search('<html><head><title>Title</title>').group())\n",
    "\n",
    "p = re.compile('<.*?>')\n",
    "print(p.search('<html><head><title>Title</title>').group())"
   ]
  },
  {
   "cell_type": "markdown",
   "metadata": {},
   "source": [
    "<a id=\"modifying-strings\"></a>\n",
    "## Modifying Strings\n",
    "\n",
    "Regular expressions are also commonly used to modify strings in various ways:\n",
    "\n",
    "- `split()` splits the string into a list, splitting it wherever the Regex matches\n",
    "- `sub()` finds all substrings where the RE matches, and replaces them with a different string\n",
    "- `subn()` does the same thing as `sub()`, but returns the new string and the number of replacements"
   ]
  },
  {
   "cell_type": "markdown",
   "metadata": {},
   "source": [
    "### Splitting Strings\n",
    "\n",
    "The `split()` method of a `Regex` object splits a string apart, returning a list of the pieces. \n",
    "It is similar to the `split()` method of strings but provides much more generality in the delimiters that you can split by. \n",
    "\n",
    "The following example, the delimiter is any sequence of non-alphanumeric characters:"
   ]
  },
  {
   "cell_type": "code",
   "execution_count": null,
   "metadata": {},
   "outputs": [],
   "source": [
    "p = re.compile('\\W+')\n",
    "p.split('This is a test, short and sweet, of split().')"
   ]
  },
  {
   "cell_type": "markdown",
   "metadata": {},
   "source": [
    "You can also limit the number of splits made, by passing a value of `maxsplit` (or a third argument) to the `split()` method."
   ]
  },
  {
   "cell_type": "code",
   "execution_count": null,
   "metadata": {},
   "outputs": [],
   "source": [
    "p = re.compile('\\W+')\n",
    "p.split('This is a test, short and sweet, of split().', 3)"
   ]
  },
  {
   "cell_type": "markdown",
   "metadata": {},
   "source": [
    "### Search and Replace"
   ]
  },
  {
   "cell_type": "markdown",
   "metadata": {},
   "source": [
    "Another common task is to find all the matches for a pattern, and replace them with a different string.\n",
    "\n",
    "- The `sub()` method takes a replacement value, which can either be a string or a function, and the string to be processed\n",
    "- The `subn()` method not only does the replacement, but also returns the number of replacements that were performed"
   ]
  },
  {
   "cell_type": "code",
   "execution_count": null,
   "metadata": {},
   "outputs": [],
   "source": [
    "p = re.compile('Agent \\w+')\n",
    "print(p.sub('CENSORED', 'Agent Alice gave the secret documents to Agent Bob.'))\n",
    "print(p.subn('CENSORED', 'Agent Alice gave the secret documents to Agent Bob.'))"
   ]
  },
  {
   "cell_type": "markdown",
   "metadata": {},
   "source": [
    "You may also use the matched text itself as part of the substitution."
   ]
  },
  {
   "cell_type": "code",
   "execution_count": null,
   "metadata": {},
   "outputs": [],
   "source": [
    "p = re.compile('Agent \\w+')\n",
    "print(p.sub('****', 'Agent Alice told Agent Carol that Agent Eve knew Agent Bob was a double agent.'))"
   ]
  },
  {
   "cell_type": "markdown",
   "metadata": {},
   "source": [
    "Replacement can also be a function, which gives you even more control. \n",
    "If *replacement* is a function, the function is called for every non-overlapping occurrence of *pattern*. \n",
    "\n",
    "In the following example, the replacement function translates decimals into hexadecimal,"
   ]
  },
  {
   "cell_type": "code",
   "execution_count": null,
   "metadata": {},
   "outputs": [],
   "source": [
    "def hexrepl(match):\n",
    "    '''Return the hex string for a decimal number'''\n",
    "    value = int(match.group())\n",
    "    return hex(value)\n",
    "\n",
    "p = re.compile('\\d+')\n",
    "p.sub(hexrepl, 'Call 65490 for printing, 49152 for user code.')"
   ]
  }
 ],
 "metadata": {
  "kernelspec": {
   "display_name": "Python 3 (ipykernel)",
   "language": "python",
   "name": "python3"
  },
  "language_info": {
   "codemirror_mode": {
    "name": "ipython",
    "version": 3
   },
   "file_extension": ".py",
   "mimetype": "text/x-python",
   "name": "python",
   "nbconvert_exporter": "python",
   "pygments_lexer": "ipython3",
   "version": "3.9.7"
  }
 },
 "nbformat": 4,
 "nbformat_minor": 2
}
