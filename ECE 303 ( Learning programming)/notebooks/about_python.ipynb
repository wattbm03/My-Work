{
 "cells": [
  {
   "cell_type": "markdown",
   "metadata": {},
   "source": [
    "# About Python \n"
   ]
  },
  {
   "cell_type": "markdown",
   "metadata": {},
   "source": [
    "## Contents\n",
    "\n",
    "  - [What’s Python?](#What’s-Python?)  \n",
    "  - [Scientific Programming](#Scientific-Programming)  \n",
    "  - [Learn More](#Learn-More)  "
   ]
  },
  {
   "cell_type": "markdown",
   "metadata": {},
   "source": [
    "## What’s Python?\n",
    "\n",
    "[Python](https://www.python.org) is a general purpose programming language conceived in 1989 by Dutch programmer [Guido van Rossum](https://en.wikipedia.org/wiki/Guido_van_Rossum).\n",
    "\n",
    "Python is free and open source, with development coordinated through the [Python Software Foundation](https://www.python.org/psf/).\n",
    "\n",
    "Python has experienced rapid adoption in the last decade, and is now one of the most popular programming languages."
   ]
  },
  {
   "cell_type": "markdown",
   "metadata": {},
   "source": [
    "### Relative Popularity\n",
    "\n",
    "The following chart, produced using Stack Overflow Trends, shows one measure of the relative popularity of Python. \n",
    "<img src=\"https://users.pfw.edu/chenc/ece303/python-vs-rest.JPG\">\n",
    "\n",
    "The figure indicates not only that Python is widely used but also that adoption of Python has accelerated significantly since 2012. This is driven at least in part by uptake in the scientific domain, particularly in rapidly growing fields like data science.\n",
    "\n",
    "For example, the popularity of [pandas](http://pandas.pydata.org/), a library for data analysis with Python has exploded, as seen here\n",
    "(The corresponding time path for MATLAB is shown for comparison). Note that pandas takes off in 2012, which is the same year that we see Python’s popularity begin to spike in the first figure.\n",
    "\n",
    "<img src=\"https://users.pfw.edu/chenc/ece303/pandas-vs-matlab.JPG\">\n",
    "  \n",
    "Overall, it’s clear that\n",
    "\n",
    "- Python is one of the most popular programming languages worldwide.\n",
    "- Python is a major tool for scientific computing, accounting for a rapidly rising share of scientific work around the globe.\n"
   ]
  },
  {
   "cell_type": "markdown",
   "metadata": {},
   "source": [
    "### Features\n",
    "\n",
    "Python is a [high level language](https://en.wikipedia.org/wiki/High-level_programming_language) suitable for rapid development. \n",
    "It has a relatively small core language supported by many libraries. \n",
    "\n",
    "Other features:\n",
    "\n",
    "- A multiparadigm language, in that multiple programming styles are supported (procedural, object-oriented, functional, etc.)  \n",
    "- Interpreted rather than compiled\n",
    "- Highly expressive, allowing you to get more done with less code"
   ]
  },
  {
   "cell_type": "markdown",
   "metadata": {},
   "source": [
    "## Scientific Programming\n",
    "\n",
    "Python has become one of the core languages of scientific computing.\n",
    "\n",
    "It’s either the dominant player or a major player in\n",
    "\n",
    "- [Machine learning and data science](http://scikit-learn.org/stable/)  \n",
    "- [Astronomy](http://www.astropy.org/)  \n",
    "- [Artificial intelligence](https://wiki.python.org/moin/PythonForArtificialIntelligence)  \n",
    "- [Chemistry](http://chemlab.github.io/chemlab/)  \n",
    "- [Computational biology](http://biopython.org/wiki/Main_Page)  \n",
    "- [Meteorology](https://pypi.org/project/meteorology/)  \n",
    "- etc., etc.  \n",
    "\n",
    "This section briefly showcases some examples of Python for scientific programming."
   ]
  },
  {
   "cell_type": "markdown",
   "metadata": {},
   "source": [
    "### Numerical programming\n",
    "\n",
    "Fundamental matrix and array processing capabilities are provided by the excellent [NumPy](http://www.numpy.org/) library.\n",
    "NumPy provides the basic array data type plus some simple processing operations. \n",
    "\n",
    "For example, let’s build some arrays."
   ]
  },
  {
   "cell_type": "code",
   "execution_count": null,
   "metadata": {
    "hide-output": false
   },
   "outputs": [],
   "source": [
    "import numpy as np                     # Load the library\n",
    "\n",
    "a = np.linspace(-np.pi, np.pi, 100)    # Create even grid from -π to π\n",
    "b = np.cos(a)                          # Apply cosine to each element of a\n",
    "c = np.sin(a)                          # Apply sin to each element of a"
   ]
  },
  {
   "cell_type": "markdown",
   "metadata": {},
   "source": [
    "Now let’s take the inner product:"
   ]
  },
  {
   "cell_type": "code",
   "execution_count": null,
   "metadata": {
    "hide-output": false
   },
   "outputs": [],
   "source": [
    "b @ c"
   ]
  },
  {
   "cell_type": "markdown",
   "metadata": {},
   "source": [
    "The number you see here might vary slightly but it’s essentially zero\n",
    "\n",
    "The [SciPy](http://www.scipy.org) library is built on top of NumPy and provides additional functionality\n",
    "\n",
    "<a id='tuple-unpacking-example'></a>\n",
    "For example, let’s calculate $ \\int_{-2}^2 \\phi(z) dz $ where $ \\phi $ is the standard normal density"
   ]
  },
  {
   "cell_type": "code",
   "execution_count": null,
   "metadata": {
    "hide-output": false,
    "scrolled": true
   },
   "outputs": [],
   "source": [
    "from scipy.stats import norm\n",
    "from scipy.integrate import quad\n",
    "\n",
    "ϕ = norm() \n",
    "value, error = quad(ϕ.pdf, -2, 2)  # Integrate using Gaussian quadrature\n",
    "value"
   ]
  },
  {
   "cell_type": "markdown",
   "metadata": {},
   "source": [
    "SciPy includes many of the standard routines used in\n",
    "\n",
    "- [linear algebra](http://docs.scipy.org/doc/scipy/reference/linalg.html)  \n",
    "- [integration](http://docs.scipy.org/doc/scipy/reference/integrate.html)  \n",
    "- [interpolation](http://docs.scipy.org/doc/scipy/reference/interpolate.html)  \n",
    "- [optimization](http://docs.scipy.org/doc/scipy/reference/optimize.html)  \n",
    "- [distributions and random number generation](http://docs.scipy.org/doc/scipy/reference/stats.html)  \n",
    "- [signal processing](http://docs.scipy.org/doc/scipy/reference/signal.html)  \n",
    "- [etc., etc.](http://docs.scipy.org/doc/scipy/reference/index.html)  "
   ]
  },
  {
   "cell_type": "markdown",
   "metadata": {},
   "source": [
    "### Graphics\n",
    "\n",
    "The most popular and comprehensive Python library for creating figures and graphs is [Matplotlib](http://matplotlib.org/).\n",
    "\n",
    "- Plots, histograms, contour images, 3D, bar charts, etc., etc.  \n",
    "- Output in many formats (PDF, PNG, EPS, etc.)  \n",
    "- LaTeX integration  \n",
    "\n",
    "Matplotlib examples can be found in the [Matplotlib thumbnail gallery](http://matplotlib.org/gallery.html)\n",
    "\n",
    "Other graphics libraries include\n",
    "\n",
    "- [Plotly](https://plot.ly/python/)  \n",
    "- [Bokeh](http://bokeh.pydata.org/en/latest/)  \n",
    "- [VPython](http://www.vpython.org/) — 3D graphics and animations  "
   ]
  },
  {
   "cell_type": "markdown",
   "metadata": {},
   "source": [
    "### Statistics\n",
    "\n",
    "Python’s data manipulation and statistics libraries have improved rapidly over\n",
    "the last few years."
   ]
  },
  {
   "cell_type": "markdown",
   "metadata": {},
   "source": [
    "#### Pandas\n",
    "\n",
    "\n",
    "<a id='index-7'></a>\n",
    "One of the most popular libraries for working with data is [pandas](http://pandas.pydata.org/).\n",
    "Pandas is fast, efficient, flexible and well designed.\n",
    "\n",
    "Here’s a simple example, using some fake data."
   ]
  },
  {
   "cell_type": "code",
   "execution_count": null,
   "metadata": {
    "hide-output": false
   },
   "outputs": [],
   "source": [
    "import pandas as pd\n",
    "np.random.seed(1234)\n",
    "\n",
    "data = np.random.randn(5, 2)  # 5x2 matrix of N(0, 1) random draws\n",
    "dates = pd.date_range('28/12/2010', periods=5)\n",
    "\n",
    "df = pd.DataFrame(data, columns=('price', 'weight'), index=dates)\n",
    "print(df)"
   ]
  },
  {
   "cell_type": "code",
   "execution_count": null,
   "metadata": {
    "hide-output": false
   },
   "outputs": [],
   "source": [
    "df.mean()"
   ]
  },
  {
   "cell_type": "markdown",
   "metadata": {},
   "source": [
    "#### Other Useful Statistics Libraries\n",
    "\n",
    "- [statsmodels](http://statsmodels.sourceforge.net/) — various statistical routines  \n",
    "- [scikit-learn](http://scikit-learn.org/) — machine learning in Python (sponsored by Google, among others)  \n",
    "- [pyMC](http://pymc-devs.github.io/pymc/) — for Bayesian data analysis  \n",
    "- [pystan](https://pystan.readthedocs.org/en/latest/) Bayesian analysis based on [stan](http://mc-stan.org/)  "
   ]
  },
  {
   "cell_type": "markdown",
   "metadata": {},
   "source": [
    "### Networks and Graphs\n",
    "\n",
    "Python has many libraries for studying graphs\n",
    "\n",
    "\n",
    "<a id='index-12'></a>\n",
    "One well-known example is [NetworkX](http://networkx.github.io/)\n",
    "\n",
    "- Standard graph algorithms for analyzing network structure, etc.  \n",
    "- Plotting routines  \n",
    "- etc., etc.  \n",
    "\n",
    "\n",
    "Here’s some example code that generates and plots a random graph, with node color determined by shortest path length from a central node"
   ]
  },
  {
   "cell_type": "markdown",
   "metadata": {},
   "source": [
    "### Cloud Computing\n",
    "\n",
    "Running your Python code on massive servers in the cloud is becoming easier and easier\n",
    "\n",
    "Some examples:\n",
    "\n",
    "- [Anaconda Enterprise](https://www.anaconda.com/enterprise/)\n",
    "- [Amazon Elastic Compute Cloud](http://aws.amazon.com/ec2/)  \n",
    "- The [Google App Engine](https://cloud.google.com/appengine/) (Python, Java, PHP or Go)  \n",
    "- [Pythonanywhere](https://www.pythonanywhere.com/)  \n",
    "- [Sagemath Cloud](https://cloud.sagemath.com/)  "
   ]
  },
  {
   "cell_type": "markdown",
   "metadata": {},
   "source": [
    "### Parallel Processing\n",
    "\n",
    "Apart from the cloud computing options listed above, you might like to consider\n",
    "\n",
    "- [Parallel computing through IPython clusters](http://ipython.org/ipython-doc/stable/parallel/parallel_demos.html)  \n",
    "- The [Starcluster](http://star.mit.edu/cluster/) interface to Amazon’s EC2  \n",
    "- GPU programming through [PyCuda](https://wiki.tiker.net/PyCuda), [PyOpenCL](https://mathema.tician.de/software/pyopencl/), [Theano](http://deeplearning.net/software/theano/) or similar  \n"
   ]
  },
  {
   "cell_type": "markdown",
   "metadata": {},
   "source": [
    "### Other Developments\n",
    "\n",
    "There are many other interesting developments with scientific programming in Python\n",
    "\n",
    "Some representative examples include\n",
    "\n",
    "- [Jupyter](http://jupyter.org/) — Python in your browser with code cells, embedded images, etc.  \n",
    "- [Numba](http://numba.pydata.org/) — Make Python run at the same speed as native machine code!  \n",
    "- [Blaze](http://blaze.pydata.org/) — a generalization of NumPy  \n",
    "- [PyTables](http://www.pytables.org) — manage large data sets  \n",
    "- [CVXPY](https://github.com/cvxgrp/cvxpy) — convex optimization in Python  "
   ]
  },
  {
   "cell_type": "markdown",
   "metadata": {},
   "source": [
    "## Learn More\n",
    "\n",
    "- Browse some Python projects on [GitHub](https://github.com/trending?l=python)  \n",
    "- Read more about [Python's history and rise in popularity](https://www.welcometothejungle.com/en/articles/btc-python-popular)\n",
    "- Have a look at [some of the Jupyter notebooks](http://nbviewer.jupyter.org/) people have shared on various scientific topics  \n",
    "- Visit the [Python Package Index](https://pypi.org/)  \n",
    "- View some of the question people are asking about Python on [Stackoverflow](http://stackoverflow.com/questions/tagged/python)  \n",
    "- Keep up to date on what’s happening in the Python community with the [Python subreddit](https://www.reddit.com:443/r/Python/)  "
   ]
  }
 ],
 "metadata": {
  "celltoolbar": "Edit Metadata",
  "filename": "about_py.rst",
  "kernelspec": {
   "display_name": "Python 3 (ipykernel)",
   "language": "python",
   "name": "python3"
  },
  "language_info": {
   "codemirror_mode": {
    "name": "ipython",
    "version": 3
   },
   "file_extension": ".py",
   "mimetype": "text/x-python",
   "name": "python",
   "nbconvert_exporter": "python",
   "pygments_lexer": "ipython3",
   "version": "3.9.6"
  },
  "title": "About Python"
 },
 "nbformat": 4,
 "nbformat_minor": 2
}
