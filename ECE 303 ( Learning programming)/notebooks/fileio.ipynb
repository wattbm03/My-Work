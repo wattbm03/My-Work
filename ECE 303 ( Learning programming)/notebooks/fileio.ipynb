{
 "cells": [
  {
   "cell_type": "markdown",
   "metadata": {},
   "source": [
    "# User Input and Files"
   ]
  },
  {
   "cell_type": "markdown",
   "metadata": {},
   "source": [
    "## Contents\n",
    "\n",
    "- [Overview](#Overview)\n",
    "- [Getting User Input](#Getting-User-Input)\n",
    "- [File Input and Output](#File-Input-and-Output)\n",
    "- [Working with CSV Files](#Working-with-CSV-Files)"
   ]
  },
  {
   "cell_type": "markdown",
   "metadata": {},
   "source": [
    "## Overview"
   ]
  },
  {
   "cell_type": "markdown",
   "metadata": {},
   "source": [
    "In this lecture, you will learn how to accept user input so your program can then work with it, as well as work with files."
   ]
  },
  {
   "cell_type": "markdown",
   "metadata": {},
   "source": [
    "## Getting User Input"
   ]
  },
  {
   "cell_type": "markdown",
   "metadata": {},
   "source": [
    "The `input()` function pauses your program and waits for the user to enter some text. \n",
    "Once the user's input is received, it is stored in a variable."
   ]
  },
  {
   "cell_type": "code",
   "execution_count": null,
   "metadata": {},
   "outputs": [],
   "source": [
    "message = input(\"Tell me something, and I will repeat it back to you: \")\n",
    "print(message)"
   ]
  },
  {
   "cell_type": "markdown",
   "metadata": {},
   "source": [
    "You can also store your prompt in a variable and pass that variable to the `input()` function."
   ]
  },
  {
   "cell_type": "code",
   "execution_count": null,
   "metadata": {},
   "outputs": [],
   "source": [
    "prompt = \"If you tell us who you are, we can personalize the message you see.\"\n",
    "prompt += \"\\nWhat is your first name? \"\n",
    "\n",
    "name = input(prompt)\n",
    "print(\"\\nHello, \" + name + \"!\")"
   ]
  },
  {
   "cell_type": "markdown",
   "metadata": {},
   "source": [
    "When you use the `input()` function, Python interprets everything the user enters as a string. \n",
    "If you would like to use the input as another type, for example, integer, you need to convert it, for example by the `int()` function."
   ]
  },
  {
   "cell_type": "code",
   "execution_count": null,
   "metadata": {},
   "outputs": [],
   "source": [
    "age = input(\"How old are you? \")\n",
    "age = int(age)\n",
    "age >= 18"
   ]
  },
  {
   "cell_type": "markdown",
   "metadata": {},
   "source": [
    "## File Input and Output"
   ]
  },
  {
   "cell_type": "markdown",
   "metadata": {},
   "source": [
    "### Reading an Entire File\n",
    "To begin, let's create a text file that contains *pi* to 30 decimal places with 10 decimal places per line: \n",
    "\n",
    "3.1415926535\n",
    "\n",
    "8979323846\n",
    "\n",
    "2643383279\n",
    "\n",
    "Save the file as *pi_digits.txt* in the current directory"
   ]
  },
  {
   "cell_type": "code",
   "execution_count": null,
   "metadata": {},
   "outputs": [],
   "source": [
    "with open('pi_digits.txt') as file_object:\n",
    "    contents = file_object.read()\n",
    "    print(contents)"
   ]
  },
  {
   "cell_type": "markdown",
   "metadata": {},
   "source": [
    "In the first line, the `open()` function returns an object representing `pi_digits.txt`.\n",
    "The keyword `with` closes the file automatically once access to it is no longer needed. \n",
    "You can also explicitly close the file by calling `close()`, if `with` is not used.\n",
    "\n",
    "The `read()` method reads the entire contents of the file and store it as one long string in `contents`. "
   ]
  },
  {
   "cell_type": "markdown",
   "metadata": {},
   "source": [
    "### Reading Line by Line\n",
    "When you are reading a file, you will often want to examine each line of the file. \n",
    "You can use a `for` loop on the file object to examine each line from a file one at a time:"
   ]
  },
  {
   "cell_type": "code",
   "execution_count": null,
   "metadata": {},
   "outputs": [],
   "source": [
    "filename = 'pi_digits.txt'\n",
    "\n",
    "with open(filename) as file_object:\n",
    "    for line in file_object:\n",
    "        print(line)"
   ]
  },
  {
   "cell_type": "markdown",
   "metadata": {},
   "source": [
    "Notice the new blank lines. \n",
    "They appear because an invisible newline character is at the end of each line.\n",
    "\n",
    "If you want to remove the extra blank line, you can use `rstrip()`, which removes any whitespace characters from the right side of a string. "
   ]
  },
  {
   "cell_type": "code",
   "execution_count": null,
   "metadata": {},
   "outputs": [],
   "source": [
    "with open(filename) as file_object:\n",
    "    for line in file_object:\n",
    "        print(line.rstrip())"
   ]
  },
  {
   "cell_type": "markdown",
   "metadata": {},
   "source": [
    "### Making a List of Lines from a File\n",
    "\n",
    "When you use `with` the file object returned by `open()` is only available inside the `with` block that contains it. \n",
    "\n",
    "If you want to retain access to a file’s contents outside the with block, you can store the file’s lines in a list inside the block and then work with that list. \n",
    "You can process parts of the file immediately and postpone some processing for later in the program."
   ]
  },
  {
   "cell_type": "code",
   "execution_count": null,
   "metadata": {},
   "outputs": [],
   "source": [
    "with open(filename) as file_object:\n",
    "    lines = file_object.readlines()\n",
    "\n",
    "for line in lines:\n",
    "    print(line.rstrip())"
   ]
  },
  {
   "cell_type": "markdown",
   "metadata": {},
   "source": [
    "For example, if you would like to build a single string containing all the digits in the file with no whitespace in it:"
   ]
  },
  {
   "cell_type": "code",
   "execution_count": null,
   "metadata": {},
   "outputs": [],
   "source": [
    "pi_string = ''\n",
    "for line in lines:\n",
    "    pi_string += line.rstrip()\n",
    "\n",
    "print(pi_string)\n",
    "print(len(pi_string))"
   ]
  },
  {
   "cell_type": "markdown",
   "metadata": {},
   "source": [
    "### Writing to an Empty File\n",
    "\n",
    "To write text to a file, you need to call `open()` with two arguments: \n",
    "\n",
    "- The name of the file\n",
    "- The mode to open the file: `w` stands for *write mode*\n",
    "\n",
    "You can open a file in *read mode* (`r`), *write mode* (`w`), *append mode*(`a`), or a mode that allows you to read and write to the file (`r+`)\n",
    "\n",
    "If you omit the mode argument, Python opends the file in read-only mode by default."
   ]
  },
  {
   "cell_type": "code",
   "execution_count": null,
   "metadata": {},
   "outputs": [],
   "source": [
    "filename = 'programming.txt'\n",
    "\n",
    "with open(filename,'w') as file_object:\n",
    "    file_object.write(\"I love programming.\")"
   ]
  },
  {
   "cell_type": "markdown",
   "metadata": {},
   "source": [
    "Python can only write strings to a text file. \n",
    "If you want to store numerical data in a text file, you will have to convert the data to string format first using the `str()` function. \n",
    "\n",
    "The `write()` function does not add any newlines to the text you write. \n",
    "So if you write more than one line without including newline characters, your file may not look the way you want it to:"
   ]
  },
  {
   "cell_type": "code",
   "execution_count": null,
   "metadata": {},
   "outputs": [],
   "source": [
    "filename = 'programming.txt'\n",
    "\n",
    "with open(filename,'w') as file_object:\n",
    "    file_object.write(\"I love programming.\")\n",
    "    file_object.write(\"I love learing Python.\")"
   ]
  },
  {
   "cell_type": "markdown",
   "metadata": {},
   "source": [
    "If you open *programming.txt*, you will see the two lines squished together. \n",
    "\n",
    "Including newlines in your `write()` statements makes each string appear on its own line: "
   ]
  },
  {
   "cell_type": "code",
   "execution_count": null,
   "metadata": {},
   "outputs": [],
   "source": [
    "filename = 'programming.txt'\n",
    "\n",
    "with open(filename,'w') as file_object:\n",
    "    file_object.write(\"I love programming.\\n\")\n",
    "    file_object.write(\"I love learing Python.\\n\")"
   ]
  },
  {
   "cell_type": "markdown",
   "metadata": {},
   "source": [
    "### Appending to a File\n",
    "\n",
    "If you want to add content to a file instead of writing over existing content, you can open the file in *append mode*"
   ]
  },
  {
   "cell_type": "code",
   "execution_count": null,
   "metadata": {},
   "outputs": [],
   "source": [
    "filename = 'programming.txt'\n",
    "\n",
    "with open(filename,'a') as file_object:\n",
    "    file_object.write(\"I also love finding meaning in large datasets.\\n\")"
   ]
  },
  {
   "cell_type": "markdown",
   "metadata": {},
   "source": [
    "## Working with CSV Files\n",
    "\n",
    "CSV stands for \"comma-separated values\" and are simplified spreadsheets stored as plaintext files. \n",
    "CSV format is the most common import and export format for spreadsheets and databases.  \n",
    "\n",
    "Since CSV files are just text files, you can read them in as a string and then process that string using the techniques you learned earlier.\n",
    "For example, since each cell in a CSV file is separated by a comma, you could just call the `split()` method on each line of text to get the values.\n",
    "\n",
    "Python's [csv](https://docs.python.org/3/library/csv.html) module implement classes to read and write data in CSV format. We will explore the `csv` module's `reader` and `writer` objects to work with csv files. \n",
    "\n",
    "From here on, we will assume that the following import has taken place."
   ]
  },
  {
   "cell_type": "code",
   "execution_count": null,
   "metadata": {},
   "outputs": [],
   "source": [
    "import csv"
   ]
  },
  {
   "cell_type": "markdown",
   "metadata": {},
   "source": [
    "### `csv` Reader Objects\n",
    "\n",
    "To read data from a CSV file with the `csv` module, you need to create a `Reader` object.\n",
    "A `Reader` object lets you iterate over lines in the CSV file\n",
    "\n",
    "For example, suppose we are working with an file called *example.csv* with the following contents:"
   ]
  },
  {
   "cell_type": "markdown",
   "metadata": {},
   "source": [
    "date,type,quantity  \n",
    "4/5/2019 13:34,Apples,73  \n",
    "4/5/2019 3:41,Cherries,85  \n",
    "4/6/2019 12:46,Pears,14  \n",
    "4/8/2019 8:59,Oranges,52  \n",
    "4/10/2019 2:07,Apples,152  \n",
    "4/10/2019 18:10,Bananas,23  \n",
    "4/10/2019 2:40,Strawberries,98"
   ]
  },
  {
   "cell_type": "code",
   "execution_count": null,
   "metadata": {},
   "outputs": [],
   "source": [
    "with open('example.csv') as exampleFile:\n",
    "    exampleReader = csv.reader(exampleFile)\n",
    "    exampleData = list(exampleReader)\n",
    "    \n",
    "exampleData"
   ]
  },
  {
   "cell_type": "markdown",
   "metadata": {},
   "source": [
    "To read a CSV file with the `csv` module, first open it using the `open()` function, just as you would with any other text file. \n",
    "But instead of calling the `read()` or `readlines()` method on the `File` object that `open()` returns, pass it to the `csv.reader()` function. \n",
    "This will return a `Reader` object. \n",
    "\n",
    "The most direct way to access the values in the `Reader` object is to convert it to a plain Python list by passing it to `list()`. \n",
    "This returns a list of lists, which you can store in a variable like `exampleData`.\n",
    "\n",
    "Now that you have the CSV file as a list of lists, you can access the value at a particular row and column with the expression `exampleData[row][col]`.\n",
    "\n",
    "Try the following:"
   ]
  },
  {
   "cell_type": "code",
   "execution_count": null,
   "metadata": {},
   "outputs": [],
   "source": [
    "exampleData[1][0]"
   ]
  },
  {
   "cell_type": "code",
   "execution_count": null,
   "metadata": {},
   "outputs": [],
   "source": [
    "exampleData[6][1]"
   ]
  },
  {
   "cell_type": "markdown",
   "metadata": {},
   "source": [
    "#### Reading Data from `Reader` Objects in a `for` Loop\n",
    "\n",
    "For large CSV files, you will want to use the `Reader` object in a `for` loop. \n",
    "This avoids loading the entire file into memory at once."
   ]
  },
  {
   "cell_type": "code",
   "execution_count": null,
   "metadata": {},
   "outputs": [],
   "source": [
    "with open('example.csv') as exampleFile:\n",
    "    exampleReader = csv.reader(exampleFile)\n",
    "    for row in exampleReader:\n",
    "        print('Row #' + str(exampleReader.line_num) + ' ' + str(row))"
   ]
  },
  {
   "cell_type": "markdown",
   "metadata": {},
   "source": [
    "In the above example, as you loop through the rows in the `Reader` object, each row is a list of values, with each value representing a cell. \n",
    "The `print()` function then prints the number of the current row and the contents of the row. \n",
    "\n",
    "To get the row number, use the `Reader` object's `line_num` variable, which contains the number of the current line. \n",
    "\n",
    "Please note that the `Reader` object can be looped over only once. \n",
    "To read the CSV file again, you must call `csv.reader` to create a `Reader` object again."
   ]
  },
  {
   "cell_type": "markdown",
   "metadata": {},
   "source": [
    "### `csv` Writer Objects\n",
    "\n",
    "A `Writer` object lets you write data to a CSV file. You can use the `csv.writer()` function to create a `writer` object."
   ]
  },
  {
   "cell_type": "code",
   "execution_count": null,
   "metadata": {},
   "outputs": [],
   "source": [
    "with open('output.csv', 'w', newline='') as outputFile:\n",
    "    outputWriter = csv.writer(outputFile)\n",
    "    outputWriter.writerow(['spam', 'eggs', 'bacon', 'ham'])\n",
    "    outputWriter.writerow(['Hello, world!', 'eggs', 'bacon', 'ham'])\n",
    "    outputWriter.writerow([1, 2, 3.141592, 4])"
   ]
  },
  {
   "cell_type": "markdown",
   "metadata": {},
   "source": [
    "The third argument of the `open()` function removes the extra newline at the end of each row. \n",
    "\n",
    "Notice how the `Writer` object automatically escapes the comma in the value 'Hello, world!' with double quotes in the CSV file. \n",
    "The `csv` module saves you from having to handle these special cases yourself."
   ]
  }
 ],
 "metadata": {
  "kernelspec": {
   "display_name": "Python 3 (ipykernel)",
   "language": "python",
   "name": "python3"
  },
  "language_info": {
   "codemirror_mode": {
    "name": "ipython",
    "version": 3
   },
   "file_extension": ".py",
   "mimetype": "text/x-python",
   "name": "python",
   "nbconvert_exporter": "python",
   "pygments_lexer": "ipython3",
   "version": "3.9.7"
  }
 },
 "nbformat": 4,
 "nbformat_minor": 2
}
