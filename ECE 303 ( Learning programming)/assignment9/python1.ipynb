{
 "cells": [
  {
   "cell_type": "markdown",
   "metadata": {},
   "source": [
    "# Problem 1\n",
    "Modify the python code below to convert degree from Fahrenheit to Celsius. "
   ]
  },
  {
   "cell_type": "code",
   "execution_count": 5,
   "metadata": {},
   "outputs": [
    {
     "name": "stdout",
     "output_type": "stream",
     "text": [
      "75 in Fahrenheit = 23.88888888888889 in Celsius.\n"
     ]
    }
   ],
   "source": [
    "# 1) complete the function to return the result of the conversion\n",
    "def convert_F_to_C(degree_f):\n",
    "    degree_c = (degree_f - 32)*5/9\n",
    "    return degree_c\n",
    "\n",
    "my_degree_f = 75\n",
    "\n",
    "# 2) convert my_degree_f to Celsius by calling the function above\n",
    "my_degree_c = convert_F_to_C(my_degree_f)\n",
    "\n",
    "# 3) fill in the blank to print the result of the conversion\n",
    "print(f\"{my_degree_f} in Fahrenheit = {my_degree_c} in Celsius.\")"
   ]
  },
  {
   "cell_type": "markdown",
   "metadata": {},
   "source": [
    "# Problem 2\n",
    "If a filesystem has a block size of 4096 bytes, this means that a file comprised of only one byte will still use 4096 bytes of storage. A file made up of 4097 bytes will use 4096*2=8192 bytes of storage. Knowing this, can you fill in the gaps in the `calculate_storage` function below, which calculates the total number of bytes needed to store a file of a given size?"
   ]
  },
  {
   "cell_type": "code",
   "execution_count": 11,
   "metadata": {},
   "outputs": [
    {
     "name": "stdout",
     "output_type": "stream",
     "text": [
      "4096\n",
      "4096\n",
      "8192\n",
      "8192\n"
     ]
    }
   ],
   "source": [
    "def calculate_storage(filesize):\n",
    "    block_size = 4096\n",
    "    # Use floor division to calculate how many blocks are fully occupied\n",
    "    \n",
    "    full_blocks = int(filesize/block_size)\n",
    "    # Use the modulo operator to check whether there's any remainder\n",
    "    partial_block_remainder = filesize%block_size\n",
    "    # Depending on whether there's a remainder or not, return\n",
    "    # the total number of bytes required to allocate enough blocks\n",
    "    # to store your data.\n",
    "    if partial_block_remainder > 0:\n",
    "        return full_blocks*block_size+block_size\n",
    "    return full_blocks * block_size\n",
    "\n",
    "print(calculate_storage(1))    # Should be 4096\n",
    "print(calculate_storage(4096)) # Should be 4096\n",
    "print(calculate_storage(4097)) # Should be 8192\n",
    "print(calculate_storage(6000)) # Should be 8192"
   ]
  },
  {
   "cell_type": "markdown",
   "metadata": {},
   "source": [
    "# Problem 3\n",
    "Fill in the blanks to make the `factorial` function return the factorial of n. Then, print the first 10 factorials (from 0 to 9) with the corresponding number. Remember that the factorial of a number is defined as the product of an integer and all integers before it. For example, the factorial of five (5!) is equal to `1*2*3*4*5=120`. Also recall that the factorial of zero (0!) is equal to 1."
   ]
  },
  {
   "cell_type": "code",
   "execution_count": 33,
   "metadata": {},
   "outputs": [
    {
     "name": "stdout",
     "output_type": "stream",
     "text": [
      "0 1\n",
      "1 1\n",
      "2 2\n",
      "3 6\n",
      "4 24\n",
      "5 120\n",
      "6 720\n",
      "7 5040\n",
      "8 40320\n",
      "9 362880\n"
     ]
    }
   ],
   "source": [
    "def factorial(n):\n",
    "    results = 1\n",
    " \n",
    "    for x in range(1, n + 1):\n",
    "        results = results * x\n",
    "    return results\n",
    "\n",
    "for n in range(0,10):\n",
    "    print(n, factorial(n))"
   ]
  },
  {
   "cell_type": "markdown",
   "metadata": {},
   "source": [
    "# Problem 4\n",
    "Consider the polynomial \\\\(f(x) = a_0+a_1x+a_2x^2+...+a_nx^n\\\\).\n",
    "Fill in the blanks to make the `f` function compute the value of a polynomial given an input `x` and a list of coefficients `coef`. "
   ]
  },
  {
   "cell_type": "code",
   "execution_count": 56,
   "metadata": {},
   "outputs": [
    {
     "name": "stdout",
     "output_type": "stream",
     "text": [
      "17.0\n"
     ]
    }
   ],
   "source": [
    "def f(x, coef):\n",
    "    y = 0\n",
    "    for p, coef in enumerate(coef):\n",
    "        y += coef * (x**p)\n",
    "    return y\n",
    "\n",
    "print(f(2.0, [1, 2, 3])) # should return 17.0"
   ]
  },
  {
   "cell_type": "code",
   "execution_count": null,
   "metadata": {},
   "outputs": [],
   "source": []
  }
 ],
 "metadata": {
  "interpreter": {
   "hash": "0f576a2cf024d05051bd43fda6bfb8190bfdbe9884060ca3b101fb94e57265b6"
  },
  "kernelspec": {
   "display_name": "Python 3 (ipykernel)",
   "language": "python",
   "name": "python3"
  },
  "language_info": {
   "codemirror_mode": {
    "name": "ipython",
    "version": 3
   },
   "file_extension": ".py",
   "mimetype": "text/x-python",
   "name": "python",
   "nbconvert_exporter": "python",
   "pygments_lexer": "ipython3",
   "version": "3.9.6"
  }
 },
 "nbformat": 4,
 "nbformat_minor": 2
}
