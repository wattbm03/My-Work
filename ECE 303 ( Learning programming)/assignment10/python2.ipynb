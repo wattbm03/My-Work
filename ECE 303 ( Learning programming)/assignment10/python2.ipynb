{
 "cells": [
  {
   "cell_type": "markdown",
   "metadata": {},
   "source": [
    "# Estimating $\\pi$ through Monte-Carlo Method\n",
    "In this file, we will compare different way to speed up the estimation of $\\pi$ through the Monte-Carlo method below: \n",
    "\n",
    "- generate two uniform random variables u and v in [0,1], (u,v) representing a point in the unit square\n",
    "- calculate $p$, the probability of (u,v) falling in the circle embedded in the unit square (with radius = 0.5)\n",
    "\n",
    "This probability $p$ is a good estimate of $\\pi\\times 0.5^2$. Therefore, we can compute an approximate value of $\\pi$ by $4p$."
   ]
  },
  {
   "cell_type": "markdown",
   "metadata": {},
   "source": [
    "## Option 1: Pure Python Loop\n",
    "The following program uses a Python loop to find the estimate."
   ]
  },
  {
   "cell_type": "code",
   "execution_count": 3,
   "metadata": {},
   "outputs": [],
   "source": [
    "import random\n",
    "import math\n",
    "\n",
    "def estimate_pi(n):\n",
    "    count = 0\n",
    "    for i in range(n):\n",
    "        u, v = random.uniform(0,1), random.uniform(0,1)\n",
    "        d = math.sqrt((u - 0.5)**2 + (v - 0.5)**2)\n",
    "        if d < 0.5:\n",
    "            count += 1\n",
    "            \n",
    "    proportion = count / n\n",
    "    return proportion * 4  # dividing by radius**2"
   ]
  },
  {
   "cell_type": "markdown",
   "metadata": {},
   "source": [
    "In the following cell, please call `estimate_pi(10**6)`, print the estimate for $\\pi$, and record the running time."
   ]
  },
  {
   "cell_type": "code",
   "execution_count": 4,
   "metadata": {},
   "outputs": [
    {
     "name": "stdout",
     "output_type": "stream",
     "text": [
      "3.14306\n",
      "0.8617970943450928 seconds\n"
     ]
    }
   ],
   "source": [
    "import time\n",
    "start = time.time()\n",
    "print(estimate_pi(10**6))\n",
    "end = time.time()\n",
    "print(end - start, \"seconds\")"
   ]
  },
  {
   "cell_type": "markdown",
   "metadata": {},
   "source": [
    "## Option 2: NumPy ufuncs\n",
    "Now let's rewrite the function using NumPy universal functions. Please fill in the blanks below:"
   ]
  },
  {
   "cell_type": "code",
   "execution_count": 5,
   "metadata": {},
   "outputs": [],
   "source": [
    "import numpy as np\n",
    "def estimate_pi_numpy(n):\n",
    "    u, v = np.random.uniform(size=n), np.random.uniform(size=n)\n",
    "    d = np.sqrt((u - 0.5)**2 + (v - 0.5)**2)\n",
    "    proportion =(d<.5).sum()/n\n",
    "    return proportion * 4  # dividing by radius**2\n"
   ]
  },
  {
   "cell_type": "markdown",
   "metadata": {},
   "source": [
    "In the following cell, please call `estimate_pi_numpy(10**6)`, print the estimate for $\\pi$, and record the running time."
   ]
  },
  {
   "cell_type": "code",
   "execution_count": 6,
   "metadata": {},
   "outputs": [
    {
     "name": "stdout",
     "output_type": "stream",
     "text": [
      "3.143492\n",
      "0.05615663528442383 seconds\n"
     ]
    }
   ],
   "source": [
    "import time\n",
    "start = time.time()\n",
    "print(estimate_pi_numpy(10**6))\n",
    "end = time.time()\n",
    "print(end - start, \"seconds\")"
   ]
  },
  {
   "cell_type": "markdown",
   "metadata": {},
   "source": [
    "## Option 3: Numba\n",
    "Let's try speed up with Numba's JIT compilation. \n",
    "\n",
    "First we compile the `estimate_pi` function using the pure Python loop. \n",
    "\n",
    "Run the following and record the time."
   ]
  },
  {
   "cell_type": "code",
   "execution_count": 7,
   "metadata": {},
   "outputs": [
    {
     "data": {
      "text/plain": [
       "2.4"
      ]
     },
     "execution_count": 7,
     "metadata": {},
     "output_type": "execute_result"
    }
   ],
   "source": [
    "from numba import njit\n",
    "\n",
    "estimate_pi_numba = njit(estimate_pi)\n",
    "\n",
    "estimate_pi_numba(10) # run once to compile"
   ]
  },
  {
   "cell_type": "markdown",
   "metadata": {},
   "source": [
    "In the following cell, please call `estimate_pi_numba(10**6)`, print the estimate for $\\pi$, and record the running time."
   ]
  },
  {
   "cell_type": "code",
   "execution_count": 9,
   "metadata": {},
   "outputs": [
    {
     "name": "stdout",
     "output_type": "stream",
     "text": [
      "3.14336\n",
      "0.019855022430419922 seconds\n"
     ]
    }
   ],
   "source": [
    "import time\n",
    "start = time.time()\n",
    "print(estimate_pi_numba(10**6))\n",
    "end = time.time()\n",
    "print(end - start, \"seconds\")"
   ]
  },
  {
   "cell_type": "markdown",
   "metadata": {},
   "source": [
    "Next compile the `estimate_pi_numpy` function with NumPy ufuncs. \n",
    "\n",
    "Note this `estimate_pi_numpy` function follows the same implementation as in Option 2."
   ]
  },
  {
   "cell_type": "code",
   "execution_count": 10,
   "metadata": {},
   "outputs": [
    {
     "data": {
      "text/plain": [
       "3.6"
      ]
     },
     "execution_count": 10,
     "metadata": {},
     "output_type": "execute_result"
    }
   ],
   "source": [
    "@njit\n",
    "def estimate_pi_numpy(n):\n",
    "    u, v = np.random.uniform(0,1,size=n), np.random.uniform(0,1,size=n)\n",
    "    d = np.sqrt((u - 0.5)**2 + (v - 0.5)**2)\n",
    "    proportion = (d<.5).sum()/n\n",
    "    return proportion * 4  # dividing by radius**2\n",
    "\n",
    "estimate_pi_numpy(10) # run once to compile"
   ]
  },
  {
   "cell_type": "markdown",
   "metadata": {},
   "source": [
    "In the following cell, please call `estimate_pi_numpy(10**6)`, print the estimate for $\\pi$, and record the running time."
   ]
  },
  {
   "cell_type": "code",
   "execution_count": 11,
   "metadata": {},
   "outputs": [
    {
     "name": "stdout",
     "output_type": "stream",
     "text": [
      "3.141448\n",
      "0.032845497131347656 seconds\n"
     ]
    }
   ],
   "source": [
    "import time\n",
    "start = time.time()\n",
    "print(estimate_pi_numpy(10**6))\n",
    "end = time.time()\n",
    "print(end - start, \"seconds\")"
   ]
  }
 ],
 "metadata": {
  "interpreter": {
   "hash": "9a9de5fefcb596b64d6545296bf0d27c1e94d38eeab072be212fcb64bf29cfcf"
  },
  "kernelspec": {
   "display_name": "Python 3.9.6 64-bit",
   "name": "python3"
  },
  "language_info": {
   "codemirror_mode": {
    "name": "ipython",
    "version": 3
   },
   "file_extension": ".py",
   "mimetype": "text/x-python",
   "name": "python",
   "nbconvert_exporter": "python",
   "pygments_lexer": "ipython3",
   "version": "3.9.6"
  }
 },
 "nbformat": 4,
 "nbformat_minor": 2
}
