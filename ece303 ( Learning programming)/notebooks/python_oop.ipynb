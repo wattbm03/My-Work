{
 "cells": [
  {
   "cell_type": "markdown",
   "metadata": {},
   "source": [
    "# OOP II: Building Classes\n",
    "\n",
    "\n",
    "<a id='index-1'></a>"
   ]
  },
  {
   "cell_type": "markdown",
   "metadata": {},
   "source": [
    "## Contents\n",
    "\n",
    "  - [Overview](#Overview)  \n",
    "  - [Defining Your Own Classes](#Defining-Your-Own-Classes)  \n",
    "  - [Special Methods](#Special-Methods)  \n",
    "  - [Inheritance](#Inheritance)"
   ]
  },
  {
   "cell_type": "markdown",
   "metadata": {},
   "source": [
    "## Overview\n",
    "\n",
    "We already learned some foundations of object oriented programming. \n",
    "\n",
    "In the OOP paradigm, data and functions are *bundled together* into “objects”.\n",
    "\n",
    "An example is a Python list, which not only stores data, but also knows how to sort itself, etc."
   ]
  },
  {
   "cell_type": "code",
   "execution_count": null,
   "metadata": {
    "hide-output": false
   },
   "outputs": [],
   "source": [
    "x = [1, 5, 4]\n",
    "x.sort()\n",
    "x"
   ]
  },
  {
   "cell_type": "markdown",
   "metadata": {},
   "source": [
    "As we now know, `sort` is a function that is “part of” the list object — and hence called a *method*.\n",
    "\n",
    "If we want to make our own types of objects we need to use class definitions. \n",
    "A **class definition** is a blueprint for a particular class of objects (e.g., lists, strings or complex numbers). \n",
    "It describes\n",
    "\n",
    "- What kind of data the class stores  \n",
    "- What methods it has for acting on these data  \n",
    "\n",
    "An **object** or **instance** is a realization of the class, created from the blueprint:\n",
    "\n",
    "- Each instance has its own unique data  \n",
    "- Methods set out in the class definition act on this (and other) data  \n",
    "\n",
    "In Python, the data and methods of an object are collectively referred to as **attributes**. \n",
    "Attributes are accessed via “dotted attribute notation”:\n",
    "\n",
    "- `object_name.data`  \n",
    "- `object_name.method_name()`  "
   ]
  },
  {
   "cell_type": "markdown",
   "metadata": {},
   "source": [
    "In the following example,\n",
    "\n",
    "- `x` is an object or instance, created from the definition for Python lists, but with its own particular data  \n",
    "- `x.sort()` and `x.__class__` are two attributes of `x`  \n",
    "- `dir(x)` can be used to view all the attributes of `x`  \n",
    "\n",
    "\n",
    "\n",
    "<a id='why-oop'></a>"
   ]
  },
  {
   "cell_type": "code",
   "execution_count": null,
   "metadata": {
    "hide-output": false
   },
   "outputs": [],
   "source": [
    "x = [1, 5, 4]\n",
    "x.sort()\n",
    "x.__class__"
   ]
  },
  {
   "cell_type": "code",
   "execution_count": null,
   "metadata": {},
   "outputs": [],
   "source": [
    "dir(x)"
   ]
  },
  {
   "cell_type": "markdown",
   "metadata": {},
   "source": [
    "## Defining Your Own Classes\n",
    "\n",
    "So imagine now you want to write a program with consumers, who can\n",
    "\n",
    "- hold and spend cash  \n",
    "- consume goods  \n",
    "- work and earn cash  "
   ]
  },
  {
   "cell_type": "markdown",
   "metadata": {},
   "source": [
    "### Example: A Consumer Class\n",
    "\n",
    "First we can build a `Consumer` class with\n",
    "\n",
    "- a `wealth` attribute that stores the consumer’s wealth (data)  \n",
    "- an `earn` method, where `earn(y)` increments the consumer’s wealth by `y`  \n",
    "- a `spend` method, where `spend(x)` either decreases wealth by `x` or returns an error if insufficient funds exist  \n",
    "\n",
    "Here’s one implementation:"
   ]
  },
  {
   "cell_type": "code",
   "execution_count": null,
   "metadata": {
    "hide-output": false
   },
   "outputs": [],
   "source": [
    "class Consumer:\n",
    "\n",
    "    def __init__(self, w):\n",
    "        \"Initialize consumer with w dollars of wealth\"\n",
    "        self.wealth = w\n",
    "\n",
    "    def earn(self, y):\n",
    "        \"The consumer earns y dollars\"\n",
    "        self.wealth += y\n",
    "\n",
    "    def spend(self, x):\n",
    "        \"The consumer spends x dollars if feasible\"\n",
    "        new_wealth = self.wealth - x\n",
    "        if new_wealth < 0:\n",
    "            print(\"Insufficent funds\")\n",
    "        else:\n",
    "            self.wealth = new_wealth"
   ]
  },
  {
   "cell_type": "markdown",
   "metadata": {},
   "source": [
    "The `class` keyword indicates that we are building a class. \n",
    "This class defines instance data `wealth` and three methods: `__init__`, `earn` and `spend`\n",
    "\n",
    "- `wealth` is **instance data** because each consumer we create (each instance of the `Consumer` class) will have its own separate wealth data.\n",
    "\n",
    "- Both the `earn` and the `spend` methods act on the instance data `wealth`.\n",
    "\n",
    "- The `__init__` method is a *constructor method*. \n",
    "Whenever we create an instance of the class, this method will be called automatically. \n",
    "Calling `__init__` sets up a “namespace” to hold the instance data."
   ]
  },
  {
   "cell_type": "markdown",
   "metadata": {},
   "source": [
    "#### Usage\n",
    "\n",
    "Here’s an example of usage"
   ]
  },
  {
   "cell_type": "code",
   "execution_count": null,
   "metadata": {
    "hide-output": false
   },
   "outputs": [],
   "source": [
    "c1 = Consumer(10)  # Create instance with initial wealth 10\n",
    "c1.spend(5)\n",
    "c1.wealth"
   ]
  },
  {
   "cell_type": "code",
   "execution_count": null,
   "metadata": {
    "hide-output": false
   },
   "outputs": [],
   "source": [
    "c1.earn(10)\n",
    "c1.spend(100)"
   ]
  },
  {
   "cell_type": "markdown",
   "metadata": {},
   "source": [
    "We can create multiple instances each with its own data."
   ]
  },
  {
   "cell_type": "code",
   "execution_count": null,
   "metadata": {
    "hide-output": false
   },
   "outputs": [],
   "source": [
    "c1 = Consumer(10)\n",
    "c2 = Consumer(12)\n",
    "c2.spend(4)\n",
    "c2.wealth"
   ]
  },
  {
   "cell_type": "code",
   "execution_count": null,
   "metadata": {
    "hide-output": false
   },
   "outputs": [],
   "source": [
    "c1.wealth"
   ]
  },
  {
   "cell_type": "markdown",
   "metadata": {},
   "source": [
    "Each instance stores its data in a separate namespace dictionary. When we access or set attributes we’re actually just modifying the dictionary\n",
    "maintained by the instance."
   ]
  },
  {
   "cell_type": "code",
   "execution_count": null,
   "metadata": {
    "hide-output": false
   },
   "outputs": [],
   "source": [
    "c1.__dict__"
   ]
  },
  {
   "cell_type": "code",
   "execution_count": null,
   "metadata": {
    "hide-output": false
   },
   "outputs": [],
   "source": [
    "c2.__dict__"
   ]
  },
  {
   "cell_type": "markdown",
   "metadata": {},
   "source": [
    "#### Self\n",
    "\n",
    "If you look at the `Consumer` class definition again you’ll see the word `self` throughout the code. \n",
    "\n",
    "The rules with `self` are that\n",
    "\n",
    "- Any instance data should be prepended with `self`  \n",
    "  \n",
    "  - e.g., the `earn` method references `self.wealth` rather than just `wealth`  \n",
    "  \n",
    "- Any method defined within the class should have `self` as its first argument  \n",
    "  \n",
    "  - e.g., `def earn(self, y)` rather than just `def earn(y)`  \n",
    "  \n",
    "- Any method referenced within the class should be called as  `self.method_name`  "
   ]
  },
  {
   "cell_type": "markdown",
   "metadata": {},
   "source": [
    "Recall that in the definition of the `earn` method, `self` is the first parameter."
   ]
  },
  {
   "cell_type": "code",
   "execution_count": null,
   "metadata": {
    "hide-output": false
   },
   "outputs": [],
   "source": [
    "def earn(self, y):\n",
    "     \"The consumer earns y dollars\"\n",
    "     self.wealth += y"
   ]
  },
  {
   "cell_type": "markdown",
   "metadata": {},
   "source": [
    "When you call `earn` via `c1.earn(10)` the interpreter passes the instance `c1` and the argument `10` to `Consumer.earn`. \n",
    "In fact the following are equivalent:\n",
    "\n",
    "- `c1.earn(10)`  \n",
    "- `Consumer.earn(c1, 10)`  \n",
    "\n",
    "In the function call `Consumer.earn(c1, 10)` note that `c1` is the first argument. \n",
    "Recall that in the definition of the `earn` method, `self` is the first parameter. \n",
    "The end result is that `self` is bound to the instance `c1` inside the function call. \n",
    "That’s why the statement `self.wealth += y` inside `earn` ends up modifying `c1.wealth`."
   ]
  },
  {
   "cell_type": "markdown",
   "metadata": {},
   "source": [
    "### Example: A Student Class\n",
    "\n",
    "For our next example, let’s write a simple class called `Student` and use it to help keep track of students in a class.\n",
    "\n",
    "Suppose we would like to keep record of each student's first name, last name, and birthdate.\n",
    "In addition, we would want to sort students by last name (first priority) and first name (second priority).\n",
    "\n",
    "Here is one implementation:"
   ]
  },
  {
   "cell_type": "code",
   "execution_count": null,
   "metadata": {
    "hide-output": false
   },
   "outputs": [],
   "source": [
    "import datetime\n",
    "\n",
    "class Student:\n",
    "\n",
    "    def __init__(self, name):  \n",
    "        \"\"\"Assumes name is in format \"first last\"\n",
    "           Sets self's full name and last name\"\"\"\n",
    "        self.name = name\n",
    "        \n",
    "        lastBlank = name.rindex(' ') # find the first occurance of space\n",
    "        self.lastName = name[lastBlank+1:]\n",
    "        \n",
    "        self.birthday = None\n",
    "\n",
    "    def getName(self):\n",
    "        \"\"\"Returns self's full name\"\"\"\n",
    "        return self.name\n",
    "\n",
    "    def getLastName(self):\n",
    "        \"\"\"Returns self's last name\"\"\"\n",
    "        return self.lastName\n",
    "\n",
    "    def setBirthday(self, birthdate):\n",
    "        \"\"\"Assumes birthdate is of type datetime.date\n",
    "           Sets self's birthday to birthdate\"\"\"\n",
    "        self.birthday = birthdate\n",
    "\n",
    "    def getAge(self):\n",
    "        \"\"\"Return self's current age in days\"\"\"\n",
    "        if self.birthday == None:\n",
    "            raise ValueError\n",
    "            \n",
    "        return (datetime.date.today() - self.birthday).days\n",
    "    \n",
    "    def __lt__(self, other):\n",
    "        \"\"\"Returns True if self precedes other in alphabetical order, and False otherwise. \n",
    "           Comparison is based on last names, but if these ar the same full names are compared.\"\"\"\n",
    "        if self.lastName == other.lastName:\n",
    "            return self.name < other.name\n",
    "        return self.lastName < other.lastName\n",
    "    \n",
    "    def __str__(self):\n",
    "        \"\"\"Returns self's full name\"\"\"        \n",
    "        return self.name"
   ]
  },
  {
   "cell_type": "markdown",
   "metadata": {},
   "source": [
    "The `__init__` method is a constructor. \n",
    "Whenever `Student` is instantiated an argument is supplied to the `__init__` function.\n",
    "\n",
    "The following code makes use of `Student`:"
   ]
  },
  {
   "cell_type": "code",
   "execution_count": null,
   "metadata": {
    "hide-output": false
   },
   "outputs": [],
   "source": [
    "me = Student('John Smith')\n",
    "her = Student('Alice Wonder')\n",
    "him = Student('Peter Pan')\n",
    "print(him.getLastName())\n",
    "him.setBirthday(datetime.date(2000, 8, 4))\n",
    "her.setBirthday(datetime.date(1998, 12, 3))\n",
    "print(him.getName(), 'is', him.getAge(), 'days old')"
   ]
  },
  {
   "cell_type": "markdown",
   "metadata": {},
   "source": [
    "After the above code is executed, there will be three instances of class `Student`. \n",
    "Once can access information about these instances using the methods associated with them."
   ]
  },
  {
   "cell_type": "markdown",
   "metadata": {},
   "source": [
    "Note that there is another specially named method, `__lt__`.\n",
    "This method overloads the `<` operator.\n",
    "It gets called whenever the first argument to the `<` operator is of type `Student`. \n",
    "\n",
    "This overloading provides automatic access to any polymorphic method defined using `__lt__`. \n",
    "The built-in method `sort` is one such method. \n",
    "\n",
    "For example, if `sList` is a list composed of elements of type `Student`, the call `sList.sort()` will sort that list using the `__lt__` method defined in class `Student`."
   ]
  },
  {
   "cell_type": "code",
   "execution_count": null,
   "metadata": {},
   "outputs": [],
   "source": [
    "sList = [me, her, him]\n",
    "\n",
    "sList.sort()\n",
    "for s in sList:\n",
    "    print(s)"
   ]
  },
  {
   "cell_type": "markdown",
   "metadata": {},
   "source": [
    "## Special Methods\n",
    "\n",
    "Python provides special methods with which some neat tricks can be performed.\n",
    "\n",
    "For example, recall that lists and tuples have a notion of length, and that this length can be queried via the `len` function."
   ]
  },
  {
   "cell_type": "code",
   "execution_count": null,
   "metadata": {
    "hide-output": false
   },
   "outputs": [],
   "source": [
    "x = (10, 20)\n",
    "len(x)"
   ]
  },
  {
   "cell_type": "markdown",
   "metadata": {},
   "source": [
    "If you want to provide a return value for the `len` function when applied to\n",
    "your user-defined object, use the `__len__` special method."
   ]
  },
  {
   "cell_type": "code",
   "execution_count": null,
   "metadata": {
    "hide-output": false
   },
   "outputs": [],
   "source": [
    "class Foo:\n",
    "\n",
    "    def __len__(self):\n",
    "        return 42"
   ]
  },
  {
   "cell_type": "markdown",
   "metadata": {},
   "source": [
    "Now we get"
   ]
  },
  {
   "cell_type": "code",
   "execution_count": null,
   "metadata": {
    "hide-output": false
   },
   "outputs": [],
   "source": [
    "f = Foo()\n",
    "len(f)"
   ]
  },
  {
   "cell_type": "markdown",
   "metadata": {},
   "source": [
    "\n",
    "<a id='call-method'></a>\n",
    "A special method we will use regularly is the `__call__` method. \n",
    "This method can be used to make your instances callable, just like functions."
   ]
  },
  {
   "cell_type": "code",
   "execution_count": null,
   "metadata": {
    "hide-output": false
   },
   "outputs": [],
   "source": [
    "class Foo:\n",
    "\n",
    "    def __call__(self, x):\n",
    "        return x + 42"
   ]
  },
  {
   "cell_type": "markdown",
   "metadata": {},
   "source": [
    "After running we get"
   ]
  },
  {
   "cell_type": "code",
   "execution_count": null,
   "metadata": {
    "hide-output": false
   },
   "outputs": [],
   "source": [
    "f = Foo()\n",
    "f(8)  # Exactly equivalent to f.__call__(8)"
   ]
  },
  {
   "cell_type": "markdown",
   "metadata": {},
   "source": [
    "## Inheritance"
   ]
  },
  {
   "cell_type": "markdown",
   "metadata": {},
   "source": [
    "We can also create **subclass**(es), for example, `PFWstudent` below, that **inherits** all the attributes of its **superclass**, `Student`.\n",
    "\n",
    "In addition to what it inherits, the subclass can\n",
    "\n",
    "- add new attributes\n",
    "- **overide** attributes of the superclass\n"
   ]
  },
  {
   "cell_type": "code",
   "execution_count": null,
   "metadata": {},
   "outputs": [],
   "source": [
    "class PFWstudent(Student):\n",
    "\n",
    "    nextIdNum = 0 #identification number\n",
    "    \n",
    "    def __init__(self, name):  \n",
    "        \"\"\"Assumes name is in format \"first last\"\n",
    "           Sets self's full name and last name\"\"\"\n",
    "        Student.__init__(self, name)\n",
    "        self.idNum = PFWstudent.nextIdNum\n",
    "        PFWstudent.nextIdNum += 1\n",
    "        \n",
    "    def getIdNum(self):\n",
    "        \"\"\"Returns self's id number\"\"\"\n",
    "        return self.idNum\n",
    "    \n",
    "    def __lt__(self, other):\n",
    "        return self.idNum < other.idNum"
   ]
  },
  {
   "cell_type": "markdown",
   "metadata": {},
   "source": [
    "The method `PFWstudent.__init__` first invokes `Student.__init__` to initialize the *inherited* instance variable `self.name`. It then initializes a new instance variable `self.idNum`.\n",
    "\n",
    "`self.idNum` is initialized using a **class variable**, `nextIdNum`, that belongs to the class `PFWstudent`, rather than to instances of the class.\n",
    "\n",
    "Consider the following code:"
   ]
  },
  {
   "cell_type": "code",
   "execution_count": null,
   "metadata": {},
   "outputs": [],
   "source": [
    "s1 = PFWstudent('Don Master')\n",
    "print(str(s1) + '\\'s id number is ' + str(s1.getIdNum()))"
   ]
  },
  {
   "cell_type": "markdown",
   "metadata": {},
   "source": [
    "The first line creates a new `PFWstudent`. \n",
    "The second line attempts to evaluate the expression `str(s1)`.\n",
    "\n",
    "The runtime system first checks to see if there is an `__str__` method associated with class `PFWstudent`. \n",
    "Since there is not, it next checks to see if there is an `__str__` method associated with the superclass, `Student`, of `PFWstudent`.\n",
    "There is, so it uses that.\n",
    "\n",
    "Now consider the following code:"
   ]
  },
  {
   "cell_type": "code",
   "execution_count": null,
   "metadata": {},
   "outputs": [],
   "source": [
    "s1 = PFWstudent('Mark Train')\n",
    "s2 = PFWstudent('Susan Dolittle')\n",
    "s3 = Student('Susan Dolittle')"
   ]
  },
  {
   "cell_type": "markdown",
   "metadata": {},
   "source": [
    "We have created three student objects, two of whom are named Susan Dolittle: one of them is of type `PFWstudent` and the other is a `Student`.\n",
    "\n",
    "If we execute the lines of code below:"
   ]
  },
  {
   "cell_type": "code",
   "execution_count": null,
   "metadata": {},
   "outputs": [],
   "source": [
    "print('s1 < s2 = ', s1 < s2)\n",
    "print('s3 < s1 = ', s3 < s1)"
   ]
  },
  {
   "cell_type": "markdown",
   "metadata": {},
   "source": [
    "Since both s1 and s2 are of type `PFWstudent`, the interpreter will use the `__lt__` method defined in class `PFWstudent` when evaluting the first comparison, so the ordering will be based on identification numbers. \n",
    "\n",
    "In the second comparison, the `<` operator is applied to operands of different types. \n",
    "Since the first argument of the expression is used to determine which `__lt__` method to invoke, `s3 < s1` is shorthand for `s3.__lt__(s1)`.\n",
    "Therefore, the interpreter uses the `__lt__` method associated with the type of s3, `Student`, and the order is based on name (i.e., lastname then firstname).\n",
    "\n",
    "What happens if we try:"
   ]
  },
  {
   "cell_type": "code",
   "execution_count": null,
   "metadata": {},
   "outputs": [],
   "source": [
    "print('s1 < s3 = ', s1 < s3)"
   ]
  },
  {
   "cell_type": "markdown",
   "metadata": {},
   "source": [
    "The runtime system will invoke the `__lt__` operator associated with the type of s1, i.e., the one defined in class `PFWstudent`. This will lead to the exception:\n",
    "\n",
    "`AttributeError: 'Student' object has no attribute 'idNum'`"
   ]
  }
 ],
 "metadata": {
  "filename": "python_oop.rst",
  "kernelspec": {
   "display_name": "Python 3 (ipykernel)",
   "language": "python",
   "name": "python3"
  },
  "language_info": {
   "codemirror_mode": {
    "name": "ipython",
    "version": 3
   },
   "file_extension": ".py",
   "mimetype": "text/x-python",
   "name": "python",
   "nbconvert_exporter": "python",
   "pygments_lexer": "ipython3",
   "version": "3.9.7"
  },
  "title": "OOP II: Building Classes"
 },
 "nbformat": 4,
 "nbformat_minor": 2
}
