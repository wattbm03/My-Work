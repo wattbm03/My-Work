{
 "cells": [
  {
   "cell_type": "markdown",
   "metadata": {},
   "source": [
    "# Numba"
   ]
  },
  {
   "cell_type": "markdown",
   "metadata": {},
   "source": [
    "## Contents\n",
    "\n",
    "  - [Overview](#Overview)  \n",
    "  - [Compiling Functions](#Compiling-Functions)   \n",
    "  - [Vectorization](#Vectorization)\n",
    "  - [Parallelization](#Parallelization)"
   ]
  },
  {
   "cell_type": "markdown",
   "metadata": {},
   "source": [
    "## Overview\n",
    "\n",
    "In our lecture on NumPy we learned one method, called **vectorization**, to improve speed and efficiency in numerical work. Vectorization involves sending array processing operations in batch to efficient low level code.  \n",
    "\n",
    "Unfortunately, vectorization has several weaknesses:\n",
    "- One is that it is highly memory intensive when working with large amounts of data.\n",
    "- Another is that not all algorithms can be vectorized. \n",
    "\n",
    "A Python library called [Numba](http://numba.pydata.org/) solves many of these problems. It does so through something called **just in time (JIT) compilation**. \n",
    "The key idea is to compile functions to native machine code instructions on the fly. When it succeeds, the compiled code is extreamely fast. \n",
    "It can also do other tricks such as facilitate *multithreading* (a form of parallelization well suited to numerical work).\n"
   ]
  },
  {
   "cell_type": "markdown",
   "metadata": {},
   "source": [
    "## Compiling Functions\n",
    "\n",
    "As stated above, Numba's primary use is compiling function to fast native machine code during runtime.\n",
    "\n",
    "Let's start with some imports:"
   ]
  },
  {
   "cell_type": "code",
   "execution_count": null,
   "metadata": {},
   "outputs": [],
   "source": [
    "import numpy as np\n",
    "import matplotlib.pyplot as plt\n",
    "%matplotlib inline\n",
    "import time"
   ]
  },
  {
   "cell_type": "markdown",
   "metadata": {},
   "source": [
    "### An Example\n",
    "\n",
    "Let’s consider a problem that are difficult to vectorize: \n",
    "generating the trajectory of a difference equation given an initial condition.\n",
    "Let’s take the difference equation to be the quadratic map: $ x_{t+1} = 4 x_t (1 - x_t) $.\n",
    "\n",
    "Here’s the plot of a typical trajectory, starting from $ x_0 = 0.1 $, with $ t $ on the x-axis."
   ]
  },
  {
   "cell_type": "code",
   "execution_count": null,
   "metadata": {
    "hide-output": false,
    "scrolled": true
   },
   "outputs": [],
   "source": [
    "def qm(x0, n):\n",
    "    x = np.empty(n+1)\n",
    "    x[0] = x0\n",
    "    for t in range(n):\n",
    "        x[t+1] = 4 * x[t] * (1 - x[t])\n",
    "    return x\n",
    "\n",
    "x = qm(0.1, 250)\n",
    "fig, ax = plt.subplots()\n",
    "ax.plot(x, 'b-', lw=2, alpha=0.8)\n",
    "ax.set_xlabel('$t$', fontsize=12)\n",
    "ax.set_ylabel('$x_{t}$', fontsize=12)\n",
    "plt.show()"
   ]
  },
  {
   "cell_type": "markdown",
   "metadata": {},
   "source": [
    "To speed the function `qm` up using Numba, the first step is:"
   ]
  },
  {
   "cell_type": "code",
   "execution_count": null,
   "metadata": {
    "hide-output": false
   },
   "outputs": [],
   "source": [
    "from numba import jit\n",
    "\n",
    "qm_numba = jit(qm)  # qm_numba is now a 'compiled' version of qm"
   ]
  },
  {
   "cell_type": "markdown",
   "metadata": {},
   "source": [
    "The function `qm_numba` is a version of `qm` that is \"targeted' for JIT-compilation. \n",
    "\n",
    "Let’s time and compare identical function calls across these two versions:"
   ]
  },
  {
   "cell_type": "code",
   "execution_count": null,
   "metadata": {
    "hide-output": false
   },
   "outputs": [],
   "source": [
    "start = time.time() # record start time\n",
    "\n",
    "### orginal qm function\n",
    "qm(0.1, int(10**7))\n",
    "\n",
    "end = time.time() # record end time\n",
    "\n",
    "elapsed_time = end - start # test timing\n",
    "print(elapsed_time)  "
   ]
  },
  {
   "cell_type": "markdown",
   "metadata": {},
   "source": [
    "Let's try qm_numba. "
   ]
  },
  {
   "cell_type": "code",
   "execution_count": null,
   "metadata": {
    "hide-output": false
   },
   "outputs": [],
   "source": [
    "start = time.time() # record start time\n",
    "\n",
    "### first call of jit version of qm function\n",
    "qm_numba(0.1, int(10**7))\n",
    "\n",
    "end = time.time() # record end time\n",
    "\n",
    "elapsed_time = end - start # test timing\n",
    "print(elapsed_time)  "
   ]
  },
  {
   "cell_type": "markdown",
   "metadata": {},
   "source": [
    "This is already a massive speed gain. \n",
    "\n",
    "In fact, the next time and all subsequent times it runs even faster as the function has been compiled and is in memory."
   ]
  },
  {
   "cell_type": "code",
   "execution_count": null,
   "metadata": {
    "hide-output": false
   },
   "outputs": [],
   "source": [
    "start = time.time() # record start time\n",
    "\n",
    "### subsequent call of jit version of qm function\n",
    "qm_numba(0.1, int(10**7))\n",
    "\n",
    "end = time.time() # record end time\n",
    "\n",
    "elapsed_time = end - start # test timing\n",
    "print(elapsed_time)  "
   ]
  },
  {
   "cell_type": "markdown",
   "metadata": {},
   "source": [
    "### Decorator Notation\n",
    "\n",
    "To target a function for JIT compilation we can just put `@jit` before the function."
   ]
  },
  {
   "cell_type": "code",
   "execution_count": null,
   "metadata": {
    "hide-output": false
   },
   "outputs": [],
   "source": [
    "@jit\n",
    "def qm(x0, n):\n",
    "    x = np.empty(n+1)\n",
    "    x[0] = x0\n",
    "    for t in range(n):\n",
    "        x[t+1] = 4 * x[t] * (1 - x[t])\n",
    "    return x"
   ]
  },
  {
   "cell_type": "markdown",
   "metadata": {},
   "source": [
    "This is equivalent to `qm = jit(qm)`. \n",
    "\n",
    "The following now uses the jitted version:"
   ]
  },
  {
   "cell_type": "code",
   "execution_count": null,
   "metadata": {},
   "outputs": [],
   "source": [
    "qm(0.1, 10)"
   ]
  },
  {
   "cell_type": "markdown",
   "metadata": {},
   "source": [
    "### How and When it Works\n",
    "\n",
    "Numba attempts to generate fast machine code using the infrastructure provided by the [LLVM Project](http://llvm.org/). \n",
    "It does this by inferring type information on the fly.\n",
    "This is easier for simple Python objects (simple scalar data types, such as floats, integers, etc.). Numba also plays well with NumPy arrays, which it treats as typed memory regions. \n",
    "\n",
    "In an ideal setting, Numba can infer all necessary type information.\n",
    "This allows it to generate native machine code, without having to call the Python runtime environment.\n",
    "In such a setting, Numba will be on par with machine code from low level languages.\n",
    "\n",
    "When Numba cannot infer all type information, some Python objects are given generic `object` status, and some code is generated using the Python runtime.\n",
    "When this happens, Numba provides only minor speed gains or none at all.\n",
    "\n",
    "We generally prefer to force an error when this occurs, so we know effective compilation is failing. This is done by using either `@jit(nopython=True)` or, equivalently, `@njit` instead of `@jit`."
   ]
  },
  {
   "cell_type": "code",
   "execution_count": null,
   "metadata": {},
   "outputs": [],
   "source": [
    "from numba import njit\n",
    "\n",
    "@njit\n",
    "def qm(x0, n):\n",
    "    x = np.empty(n+1)\n",
    "    x[0] = x0\n",
    "    for t in range(n):\n",
    "        x[t+1] = 4 * x[t] * (1 - x[t])\n",
    "    return x"
   ]
  },
  {
   "cell_type": "markdown",
   "metadata": {},
   "source": [
    "Moreover, for larger routines, or for routines using external libraries, inferring type information can easily fail. Hence, it is prudent when using Numba to focus on speeding up small, time-critical snippets of code. This will give better performance than blanketing your Python programs with `@jit` statements."
   ]
  },
  {
   "cell_type": "markdown",
   "metadata": {},
   "source": [
    "## Vectorization\n",
    "\n",
    "As mentioned before, many functions provided by NumPy are ufuncs that can be vectorized with a faster speed.\n",
    "\n",
    "For example, let's return to the maximization problem discussed before."
   ]
  },
  {
   "cell_type": "code",
   "execution_count": null,
   "metadata": {},
   "outputs": [],
   "source": [
    "def f(x, y):\n",
    "    return np.cos(x**2 + y**2) / (1 + x**2 + y**2)\n",
    "\n",
    "grid = np.linspace(-3, 3, 5000)\n",
    "x, y = np.meshgrid(grid, grid)"
   ]
  },
  {
   "cell_type": "markdown",
   "metadata": {},
   "source": [
    "Using NumPy `np.max` function, which is vectorized, the running time is much faster than the pure Python loops. "
   ]
  },
  {
   "cell_type": "code",
   "execution_count": null,
   "metadata": {},
   "outputs": [],
   "source": [
    "start = time.time() # record start time\n",
    "\n",
    "### vectorized NumPy version\n",
    "np.max(f(x, y))\n",
    "\n",
    "end = time.time() # record end time\n",
    "\n",
    "elapsed_time = end - start # test timing\n",
    "print(elapsed_time)  "
   ]
  },
  {
   "cell_type": "markdown",
   "metadata": {},
   "source": [
    "Numba can also be used to create custom ufuncs with the [@vectorize](http://numba.pydata.org/numba-doc/dev/user/vectorize.html) decorator. "
   ]
  },
  {
   "cell_type": "code",
   "execution_count": null,
   "metadata": {
    "hide-output": false
   },
   "outputs": [],
   "source": [
    "from numba import vectorize\n",
    "\n",
    "@vectorize\n",
    "def f_vec(x, y):\n",
    "    return np.cos(x**2 + y**2) / (1 + x**2 + y**2)\n",
    "\n",
    "np.max(f_vec(x, y))  # Run once to compile\n",
    "\n",
    "start = time.time() # record start time\n",
    "\n",
    "### f_vec vectorized through Numba\n",
    "np.max(f_vec(x, y))\n",
    "\n",
    "end = time.time() # record end time\n",
    "\n",
    "elapsed_time = end - start # test timing\n",
    "print(elapsed_time) "
   ]
  },
  {
   "cell_type": "markdown",
   "metadata": {},
   "source": [
    "Both Numba and NumPy use efficient machine code that’s specialized to these floating point operations. However, the code NumPy uses is, in some ways, less efficient.\n",
    "\n",
    "For example, when NumPy computes `np.cos(x**2 + y**2)` it first creates the\n",
    "intermediate arrays `x**2` and `y**2`, then it creates the array `np.cos(x**2 + y**2)`.\n",
    "\n",
    "In the `@vectorize` version using Numba, the entire operator is reduced to a\n",
    "single vectorized process and none of these intermediate arrays are created. "
   ]
  },
  {
   "cell_type": "markdown",
   "metadata": {},
   "source": [
    "## Parallelization\n",
    "\n",
    "In addition to vectorization, NumPy cleverly implements *implicit multithreading* in a lot of its compiled code. \n",
    "\n",
    "Multithreading is one type of parallelization that can speed up code execution especially for handling large amount of data and CPU intensive simulations and other calculations. \n",
    "\n",
    "Numba can also gain further speed improvements using Numba’s automatic parallelization\n",
    "feature by specifying `target='parallel'`. \n",
    "\n",
    "In this case, we need to specify the types of our inputs and outputs.As mentioned before, many functions provided by NumPy are ufuncs that can be vectorized with a faster speed.\n",
    "\n",
    "For example, for the same maximization problem,"
   ]
  },
  {
   "cell_type": "code",
   "execution_count": null,
   "metadata": {
    "hide-output": false,
    "scrolled": true
   },
   "outputs": [],
   "source": [
    "@vectorize('float64(float64, float64)', target='parallel')\n",
    "def f_vec(x, y):\n",
    "    return np.cos(x**2 + y**2) / (1 + x**2 + y**2)\n",
    "\n",
    "np.max(f_vec(x, y))  # Run once to compile\n",
    "\n",
    "start = time.time() # record start time\n",
    "\n",
    "### f_vec vectorized through Numba with parallelization\n",
    "np.max(f_vec(x, y))\n",
    "\n",
    "end = time.time() # record end time\n",
    "\n",
    "elapsed_time = end - start # test timing\n",
    "print(elapsed_time) "
   ]
  }
 ],
 "metadata": {
  "filename": "numba.rst",
  "kernelspec": {
   "display_name": "Python 3 (ipykernel)",
   "language": "python",
   "name": "python3"
  },
  "language_info": {
   "codemirror_mode": {
    "name": "ipython",
    "version": 3
   },
   "file_extension": ".py",
   "mimetype": "text/x-python",
   "name": "python",
   "nbconvert_exporter": "python",
   "pygments_lexer": "ipython3",
   "version": "3.9.7"
  },
  "title": "Numba"
 },
 "nbformat": 4,
 "nbformat_minor": 2
}
